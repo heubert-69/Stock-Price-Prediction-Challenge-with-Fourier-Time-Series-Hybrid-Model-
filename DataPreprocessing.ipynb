{
 "cells": [
  {
   "cell_type": "code",
   "execution_count": 28,
   "id": "ff3d5423",
   "metadata": {},
   "outputs": [],
   "source": [
    "import pandas as pd\n",
    "import numpy as np\n",
    "import os\n",
    "import glob\n",
    "from sklearn.preprocessing import StandardScaler, MinMaxScaler"
   ]
  },
  {
   "cell_type": "code",
   "execution_count": 29,
   "id": "449a89f8",
   "metadata": {},
   "outputs": [],
   "source": [
    "#for Data preprocessing only\n",
    "csv_files = glob.glob(os.path.join(\"raw_data\", \"*.csv\"))"
   ]
  },
  {
   "cell_type": "code",
   "execution_count": 35,
   "id": "fc41880a",
   "metadata": {
    "scrolled": true
   },
   "outputs": [
    {
     "name": "stdout",
     "output_type": "stream",
     "text": [
      "             Date Ticker       Open       High        Low      Close  \\\n",
      "0      2015-01-05   INTC  36.200001  36.450001  35.939999  35.950001   \n",
      "1      2015-01-06   INTC  36.080002  36.230000  35.259998  35.279999   \n",
      "2      2015-01-07   INTC  35.639999  36.070000  35.270000  36.020000   \n",
      "3      2015-01-08   INTC  36.369999  37.000000  36.259998  36.689999   \n",
      "4      2015-01-09   INTC  36.770000  37.110001  36.400002  36.759998   \n",
      "...           ...    ...        ...        ...        ...        ...   \n",
      "71927  2025-03-17     KO  69.239998  70.169998  69.080002  70.120003   \n",
      "71928  2025-03-18     KO  70.110001  70.190002  69.300003  69.379997   \n",
      "71929  2025-03-19     KO  68.550003  69.379997  68.540001  69.279999   \n",
      "71930  2025-03-20     KO  69.309998  69.809998  69.089996  69.709999   \n",
      "71931  2025-03-21     KO  69.709999  69.970001  68.180000  68.669998   \n",
      "\n",
      "        Adjusted   Returns    Volume  \n",
      "0      27.581896 -0.011276  32785000  \n",
      "1      27.067856 -0.018637  30847600  \n",
      "2      27.635599  0.020975  27725200  \n",
      "3      28.149652  0.018601  31765400  \n",
      "4      28.203342  0.001907  22850500  \n",
      "...          ...       ...       ...  \n",
      "71927  70.120003  0.013881  15634800  \n",
      "71928  69.379997 -0.010553  12657600  \n",
      "71929  69.279999 -0.001441  14780000  \n",
      "71930  69.709999  0.006207  16295300  \n",
      "71931  68.669998 -0.014919  47479500  \n",
      "\n",
      "[71932 rows x 9 columns]\n"
     ]
    }
   ],
   "source": [
    "dfs = []\n",
    "for file in csv_files:\n",
    "    df = pd.read_csv(file)\n",
    "    dfs.append(df)\n",
    "\n",
    "data = pd.concat(dfs, ignore_index=True)\n",
    "data.sort_values(by=\"Date\")\n",
    "data = data.reset_index(drop=True)"
   ]
  },
  {
   "cell_type": "code",
   "execution_count": 36,
   "id": "9f4eb5a0",
   "metadata": {},
   "outputs": [],
   "source": [
    "#Now We save the data for prior machine learning analysis\n",
    "data.to_csv(\"StockData.csv\", index=False)"
   ]
  }
 ],
 "metadata": {
  "kernelspec": {
   "display_name": "Python 3",
   "language": "python",
   "name": "python3"
  },
  "language_info": {
   "codemirror_mode": {
    "name": "ipython",
    "version": 3
   },
   "file_extension": ".py",
   "mimetype": "text/x-python",
   "name": "python",
   "nbconvert_exporter": "python",
   "pygments_lexer": "ipython3",
   "version": "3.6.9"
  }
 },
 "nbformat": 4,
 "nbformat_minor": 5
}
